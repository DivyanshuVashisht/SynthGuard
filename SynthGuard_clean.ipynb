{
 "cells": [
  {
   "cell_type": "code",
   "execution_count": null,
   "id": "238d0e82",
   "metadata": {
    "vscode": {
     "languageId": "plaintext"
    }
   },
   "outputs": [],
   "source": [
    "# Install required Packages\n",
    "!pip install -q huggingface_hub==0.25.0 diffusers transformers accelerate ftfy torch torchvision\n",
    "!pip install -q ffmpeg-python streamlit"
   ]
  },
  {
   "cell_type": "code",
   "execution_count": null,
   "id": "cae7ba00",
   "metadata": {
    "vscode": {
     "languageId": "plaintext"
    }
   },
   "outputs": [],
   "source": [
    "# Load dependencies\n",
    "import os\n",
    "import torch\n",
    "from diffusers import StableDiffusionPipeline\n",
    "import ffmpeg\n",
    "from PIL import Image"
   ]
  },
  {
   "cell_type": "code",
   "execution_count": null,
   "id": "e048a1ce",
   "metadata": {
    "vscode": {
     "languageId": "plaintext"
    }
   },
   "outputs": [],
   "source": [
    "# Create working folders\n",
    "os.makedirs(\"data/generated_videos/temp\", exist_ok=True)"
   ]
  },
  {
   "cell_type": "code",
   "execution_count": null,
   "id": "ec5a067d",
   "metadata": {
    "vscode": {
     "languageId": "plaintext"
    }
   },
   "outputs": [],
   "source": [
    "# Load the Pipeline\n",
    "device = \"cuda\" if torch.cuda.is_available() else \"cpu\""
   ]
  },
  {
   "cell_type": "code",
   "execution_count": null,
   "id": "75d1a766",
   "metadata": {
    "vscode": {
     "languageId": "plaintext"
    }
   },
   "outputs": [],
   "source": [
    "pipe = StableDiffusionPipeline.from_pretrained(\n",
    "    \"CompVis/stable-diffusion-v1-4\",\n",
    "    torch_dtype=torch.float16 if torch.cuda.is_available() else torch.float32,\n",
    "    revision=\"fp16\" if torch.cuda.is_available() else None,\n",
    "    low_cpu_mem_usage = True\n",
    ").to(device)"
   ]
  },
  {
   "cell_type": "code",
   "execution_count": null,
   "id": "9843be6f",
   "metadata": {
    "vscode": {
     "languageId": "plaintext"
    }
   },
   "outputs": [],
   "source": [
    "# generate frames\n",
    "def generate_sequence(prompt: str, num_frames: str, int = 8, output_dir: str = \"data/generated_videos/temp\"):\n",
    "  images = []\n",
    "  for i in range (num_frames):\n",
    "    image = pipe(f\"{prompt}, frame {i + 1}\", guidance_scale=7.5).images[0]\n",
    "    path = os.path.join(output_dir, f\"frame_{i:03}.png\")\n",
    "    image.save(path)\n",
    "    images.append(path)\n",
    "  return images"
   ]
  },
  {
   "cell_type": "code",
   "execution_count": null,
   "id": "7c993201",
   "metadata": {
    "vscode": {
     "languageId": "plaintext"
    }
   },
   "outputs": [],
   "source": [
    "# Create a video from frames\n",
    "def create_video(frames_dir=\"data/generated_videos/temp\", output_path=\"output.mp4\", fps=2):\n",
    "  (\n",
    "      ffmpeg\n",
    "      .input(os.path.join(frames_dir, 'frame_%03d.png'), framerate=fps)\n",
    "      .output(output_path, vcodec='libx264', pix_fmt='yuv420p')\n",
    "      .overwrite_output()\n",
    "      .run()\n",
    "  )\n",
    "\n",
    "  return output_path"
   ]
  },
  {
   "cell_type": "code",
   "execution_count": null,
   "id": "db5e78a6",
   "metadata": {
    "vscode": {
     "languageId": "plaintext"
    }
   },
   "outputs": [],
   "source": [
    "# Run a sample prompt\n",
    "frames = generate_sequence(\"a fire on a factory floor\", num_frames=6)\n",
    "video_path = create_video()"
   ]
  },
  {
   "cell_type": "code",
   "execution_count": null,
   "id": "fd791c9e",
   "metadata": {
    "vscode": {
     "languageId": "plaintext"
    }
   },
   "outputs": [],
   "source": [
    "from IPython.display import Video\n",
    "Video(video_path)"
   ]
  }
 ],
 "metadata": {
  "language_info": {
   "name": "python"
  }
 },
 "nbformat": 4,
 "nbformat_minor": 5
}
